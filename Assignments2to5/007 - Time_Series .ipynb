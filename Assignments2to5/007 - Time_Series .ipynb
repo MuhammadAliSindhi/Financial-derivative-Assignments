{
 "cells": [
  {
   "cell_type": "code",
   "execution_count": null,
   "metadata": {
    "tags": []
   },
   "outputs": [],
   "source": [
    "# Bismillah"
   ]
  },
  {
   "cell_type": "code",
   "execution_count": null,
   "metadata": {
    "tags": []
   },
   "outputs": [],
   "source": [
    "import numpy as np\n",
    "import pandas as pd\n",
    "import datetime as dt\n",
    "# from datetime import datetime\n",
    "import matplotlib.pyplot as plt\n",
    "%matplotlib inline\n",
    "pd.set_option('precision', 7)\n",
    "from pandas_datareader import data as web"
   ]
  },
  {
   "cell_type": "code",
   "execution_count": null,
   "metadata": {},
   "outputs": [],
   "source": [
    "msft = web.DataReader('MSFT', 'yahoo', '2012-01-01', '2013-12-30')\n",
    "msft\n",
    "\n",
    "# collects the data from yahoo finance for Microsoft for the said period and stores it in data frame, msft."
   ]
  },
  {
   "cell_type": "markdown",
   "metadata": {},
   "source": [
    "### Shifting and lagging time-series data:"
   ]
  },
  {
   "cell_type": "code",
   "execution_count": null,
   "metadata": {},
   "outputs": [],
   "source": [
    "msftAC = msft['Adj Close']\n",
    "msftAC\n",
    "\n",
    "# select only 'Adj Close' column from the msft data frame, and store it in a series, msftAC."
   ]
  },
  {
   "cell_type": "code",
   "execution_count": null,
   "metadata": {},
   "outputs": [],
   "source": [
    "type(msftAC)\n",
    "\n",
    "# msftAC is a series. We can convert it to a data frame by typing: msftAC = msft[['Adj Close']]"
   ]
  },
  {
   "cell_type": "code",
   "execution_count": null,
   "metadata": {},
   "outputs": [],
   "source": [
    "shift_forward = msftAC.shift(1)\n",
    "msftAC.head(), shift_forward.head()\n",
    "# This will shift the prices one day forward.\n",
    "# results in one NaN value at the start since there was no value prior to be shifted to 2012-01-03.\n",
    "# the number of NaN values will depend on the number of indices we are shifting forward or backward. For instance, the index is \n",
    "# daily dates, so if we shift one day forward, it means we are forwarding one index resulting into one NaN value. If we would \n",
    "# shift 2 days forward, it means we are forwarding two indices resulting into two NaN values."
   ]
  },
  {
   "cell_type": "code",
   "execution_count": null,
   "metadata": {},
   "outputs": [],
   "source": [
    "msftAC.tail(), shift_forward.tail()\n",
    "# the last price 31.9755402 on date 2013-12-30 in msftAC has been lost away in shift_forward since there is no index available for\n",
    "# it now after the prices have been shifted one day forward. So, we got one NaN value at the start and one value lost at the end\n",
    "# by shifting one day forward."
   ]
  },
  {
   "cell_type": "code",
   "execution_count": null,
   "metadata": {},
   "outputs": [],
   "source": [
    "shift_backward = msftAC.shift(-2)\n",
    "# will shift two days (two indices) backward."
   ]
  },
  {
   "cell_type": "code",
   "execution_count": null,
   "metadata": {},
   "outputs": [],
   "source": [
    "msftAC, shift_backward\n",
    "# inserts two NaNs at the end since we have shifted two days (two indices) backward and the first two values lost since there are \n",
    "# no indices available for them."
   ]
  },
  {
   "cell_type": "code",
   "execution_count": null,
   "metadata": {},
   "outputs": [],
   "source": [
    "shift_1sec = msftAC.shift(1, freq = 'S')"
   ]
  },
  {
   "cell_type": "code",
   "execution_count": null,
   "metadata": {},
   "outputs": [],
   "source": [
    "msftAC, shift_1sec\n",
    "# the prices have been shifted just one second forward each day. That means that the prices still exist on the same date. So, no\n",
    "# value is lost and no NaN is inserted.\n",
    "# the frequency could be changed to any desirable level such as hour etc.\n",
    "# Note that the index labels have been adjusted according to the specified frequency resulting into a new dataframe or series in \n",
    "# this case."
   ]
  },
  {
   "cell_type": "code",
   "execution_count": null,
   "metadata": {},
   "outputs": [],
   "source": [
    "shift_1sec['2012-01-03':'2012-01-06']\n",
    "# note that the indices now include the time as well in addition to the date."
   ]
  },
  {
   "cell_type": "markdown",
   "metadata": {},
   "source": [
    "### Practical Example:"
   ]
  },
  {
   "cell_type": "code",
   "execution_count": null,
   "metadata": {},
   "outputs": [],
   "source": [
    "msftAC, msftAC.shift(1)\n",
    "# the prices have been shifted one day forward."
   ]
  },
  {
   "cell_type": "code",
   "execution_count": null,
   "metadata": {},
   "outputs": [],
   "source": [
    "msftAC/msftAC"
   ]
  },
  {
   "cell_type": "code",
   "execution_count": null,
   "metadata": {},
   "outputs": [],
   "source": [
    "msftAC / msftAC.shift(1)\n",
    "# the dividsion is based on the same index labels. That is, the price on 2012-01-04 in msftAC is divided the price on 2012-01-04 in\n",
    "# msftAC.shift(1). This is equal t`o (current price divided by previous price). The previous price is the amount invested.\n",
    "\n",
    "# Interpretation: the $1 invested has grown to $1.0235337. So, the net return is $1.0235337 - 1 = $0.0235337. That is why we need\n",
    "# to subtract 1 as shown below.\n",
    "# the first value is NaN because value is missing in msftAC.shift(1) on 2012-01-03.\n",
    "# the last value is 1.00000 because in both msftAC and msftAC.shift(1) the value on 2013-12-30 is the same.\n",
    "\n",
    "# Very important to note that we CANNOT say that $1 investment at the start (2012-01-03) has grown to (or in this case \n",
    "# has remained same) to $1 at the end of the period (2013-12-30) since we can see that the adj close price at the start\n",
    "# is $21.62 and at the end is $31.90. So, there is definately a gain. But then why we have 1 at the end of the output of\n",
    "# this cell? It is because these returns are computed on daily basis. So, this 1 shows that $1 dollar invested on 2013-12\n",
    "#-27 has remained same $1 and it makes sense since the price has remained unchanged from 2013-12-27 to 2013-12-30. To find\n",
    "# the total return, we need to find the cumulative product."
   ]
  },
  {
   "cell_type": "code",
   "execution_count": null,
   "metadata": {},
   "outputs": [],
   "source": [
    "np.cumprod(msftAC / msftAC.shift(1))\n",
    "\n",
    "# just for the confirmation of the above."
   ]
  },
  {
   "cell_type": "code",
   "execution_count": null,
   "metadata": {},
   "outputs": [],
   "source": [
    "31.9095650 / 21.6231346\n",
    "\n",
    "# just for the confirmation above"
   ]
  },
  {
   "cell_type": "code",
   "execution_count": null,
   "metadata": {},
   "outputs": [],
   "source": [
    "percent_change = msftAC / msftAC.shift(1) - 1\n",
    "percent_change\n",
    "# gives the net daily change or return.\n",
    "# the price has increased by 2.3% from 2012-01-03 to 2012-01-04."
   ]
  },
  {
   "cell_type": "markdown",
   "metadata": {},
   "source": [
    "### Frequency Conversion of Time-Series Data:"
   ]
  },
  {
   "cell_type": "code",
   "execution_count": null,
   "metadata": {},
   "outputs": [],
   "source": [
    "sample = msftAC[:2]\n",
    "sample\n",
    "# selected first 2 rows and stored them in 'sample'"
   ]
  },
  {
   "cell_type": "code",
   "execution_count": null,
   "metadata": {},
   "outputs": [],
   "source": [
    "sample.asfreq('H')\n",
    "# to have hourly data between the two index labels.\n",
    "# a new index with hourly index labels has been created by pandas, but when aligning to the original time series, only two values\n",
    "# were found, thereby leaving the others filled with NaN. This default behaviour can be changed as follows:"
   ]
  },
  {
   "cell_type": "code",
   "execution_count": null,
   "metadata": {},
   "outputs": [],
   "source": [
    "sample.asfreq('H', method = 'ffill')\n",
    "# forward fill will take the earlier known value and fill all the missing values with it."
   ]
  },
  {
   "cell_type": "code",
   "execution_count": null,
   "metadata": {},
   "outputs": [],
   "source": [
    "sample.asfreq('H', method = 'bfill')\n",
    "# backward fill will take the next known value and fill the missing values in the backward direction."
   ]
  },
  {
   "cell_type": "markdown",
   "metadata": {},
   "source": [
    "### Resampling of time-series:"
   ]
  },
  {
   "cell_type": "code",
   "execution_count": null,
   "metadata": {},
   "outputs": [],
   "source": [
    "msftAC / msftAC.shift()\n",
    "# I haven't confirmed it but i think the default argument for shift is 1 which means to shift prices forward by one day."
   ]
  },
  {
   "cell_type": "code",
   "execution_count": null,
   "metadata": {},
   "outputs": [],
   "source": [
    "(1 + (msftAC / msftAC.shift() - 1))\n",
    "# this and immediately above seems to produce the same result. Plus1 and minus1 cancels out so the result is the same as immediately above."
   ]
  },
  {
   "cell_type": "code",
   "execution_count": null,
   "metadata": {},
   "outputs": [],
   "source": [
    "msft_cum_ret = (1 + (msftAC / msftAC.shift() - 1)).cumprod()\n",
    "msft_cum_ret\n",
    "# cumprod stands for cummulative product.\n",
    "# it multiplies the value on 2012-01-04 with the value on 2012-01-05 and produces the product in the index label 2012-01-05. This product \n",
    "# can be called cumulative daily return.\n",
    "# $1 dollar invested on 2012-01-03 has grown to $1.475 on 2013-12-30."
   ]
  },
  {
   "cell_type": "code",
   "execution_count": null,
   "metadata": {},
   "outputs": [],
   "source": [
    "msft_cum_ret['1/1/2012':'1/31/2012']\n",
    "# note that typing the date in this pattern is the same as typing 2012-01-04 and so on.\n",
    "# this gives us daily cumulative returns for all the month as explained above."
   ]
  },
  {
   "cell_type": "code",
   "execution_count": null,
   "metadata": {},
   "outputs": [],
   "source": [
    "msft_cum_ret['1/1/2012':'1/31/2012'].mean()\n",
    "# mean cumulative return of January 2012. It is a mean of all the daily cumulative returns in January.\n",
    "# to calculate each month mean cumulative return, we have to write this command 24 times for all 24 months."
   ]
  },
  {
   "cell_type": "code",
   "execution_count": null,
   "metadata": {},
   "outputs": [],
   "source": [
    "msft_cum_ret['1/2012'].mean()\n",
    "# an alternative to the above method to compute monthly mean."
   ]
  },
  {
   "cell_type": "code",
   "execution_count": null,
   "metadata": {},
   "outputs": [],
   "source": [
    "(msftAC/msftAC.shift()).mean() # mean of daily returns."
   ]
  },
  {
   "cell_type": "code",
   "execution_count": null,
   "metadata": {},
   "outputs": [],
   "source": [
    "msft_cum_ret"
   ]
  },
  {
   "cell_type": "code",
   "execution_count": null,
   "metadata": {},
   "outputs": [],
   "source": [
    "msft_monthly_cum_ret = msft_cum_ret.resample(\"M\")\n",
    "msft_monthly_cum_ret\n",
    "# a better and efficient alternative to the above two methods to compute monthly means.\n",
    "# does not return a dataframe any longer but an object stored at some location in memory. Nevermind, all the aggregation and interpolation\n",
    "# can still be validly performed as shown below."
   ]
  },
  {
   "cell_type": "code",
   "execution_count": null,
   "metadata": {},
   "outputs": [],
   "source": [
    "def print_info(groupobject):\n",
    "    for i, k in groupobject:\n",
    "        print (i)\n",
    "        print (k)"
   ]
  },
  {
   "cell_type": "code",
   "execution_count": null,
   "metadata": {},
   "outputs": [],
   "source": [
    "print_info(msft_monthly_cum_ret)\n",
    "# the daily cumulative returns have been grouped by month. In total, we will have 24 groups since we have 24 months."
   ]
  },
  {
   "cell_type": "code",
   "execution_count": null,
   "metadata": {},
   "outputs": [],
   "source": [
    "len(msft_monthly_cum_ret)\n",
    "# 24 groups confirmed."
   ]
  },
  {
   "cell_type": "code",
   "execution_count": null,
   "metadata": {},
   "outputs": [],
   "source": [
    "msft_monthly_cum_ret.size()\n",
    "# size of each group."
   ]
  },
  {
   "cell_type": "code",
   "execution_count": null,
   "metadata": {},
   "outputs": [],
   "source": [
    "msft_monthly_cum_ret.mean()"
   ]
  },
  {
   "cell_type": "code",
   "execution_count": null,
   "metadata": {},
   "outputs": [],
   "source": [
    "msft_cum_ret['2/2012'].mean()\n",
    "# to compare and confirm the mean of feb in immediately above series. Confirmed and the same."
   ]
  },
  {
   "cell_type": "code",
   "execution_count": null,
   "metadata": {},
   "outputs": [],
   "source": [
    "## The above work is almost the end of page 94 in the book. After that, for about 3 pages, the discussion in the book cannot be\n",
    "# implemented here since there is change in the newer version of pandas. But what we can do something extra and interesting follows\n",
    "# as:"
   ]
  },
  {
   "cell_type": "code",
   "execution_count": null,
   "metadata": {},
   "outputs": [],
   "source": [
    "msft"
   ]
  },
  {
   "cell_type": "code",
   "execution_count": null,
   "metadata": {},
   "outputs": [],
   "source": [
    "msft_resample = msft.resample('M')\n",
    "# the frequency has been changed to Monthly from Daily."
   ]
  },
  {
   "cell_type": "code",
   "execution_count": null,
   "metadata": {},
   "outputs": [],
   "source": [
    "msft_resample"
   ]
  },
  {
   "cell_type": "code",
   "execution_count": null,
   "metadata": {},
   "outputs": [],
   "source": [
    "for i, k in msft_resample:\n",
    "    print(i)\n",
    "    print(k)\n",
    "# the data has been grouped on monthly basis into 24 groups since we have 24 months.    "
   ]
  },
  {
   "cell_type": "code",
   "execution_count": null,
   "metadata": {},
   "outputs": [],
   "source": [
    "msft_resample.mean().head(3)\n",
    "# mean of high, low, open, close, volume and adj close for each month."
   ]
  },
  {
   "cell_type": "code",
   "execution_count": null,
   "metadata": {},
   "outputs": [],
   "source": [
    "msft.loc['1/2012', 'Adj Close'].mean()\n",
    "# confirmed that 'msft_resample.mean()' has produced mean of high, low, open, close, volume and adj close for each month."
   ]
  },
  {
   "cell_type": "code",
   "execution_count": null,
   "metadata": {},
   "outputs": [],
   "source": []
  },
  {
   "cell_type": "code",
   "execution_count": null,
   "metadata": {},
   "outputs": [],
   "source": []
  }
 ],
 "metadata": {
  "kernelspec": {
   "display_name": "Python 3",
   "language": "python",
   "name": "python3"
  },
  "language_info": {
   "codemirror_mode": {
    "name": "ipython",
    "version": 3
   },
   "file_extension": ".py",
   "mimetype": "text/x-python",
   "name": "python",
   "nbconvert_exporter": "python",
   "pygments_lexer": "ipython3",
   "version": "3.8.5"
  }
 },
 "nbformat": 4,
 "nbformat_minor": 5
}
