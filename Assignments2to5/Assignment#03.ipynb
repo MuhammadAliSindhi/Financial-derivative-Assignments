{
 "cells": [
  {
   "cell_type": "markdown",
   "id": "56475da0",
   "metadata": {},
   "source": [
    "# Group Memebers:\n",
    "    Muhammad Ali (P180089)\n",
    "   \n",
    "    Section: 8A\n",
    "    Assignment:03"
   ]
  },
  {
   "cell_type": "code",
   "execution_count": null,
   "id": "f093a0e1",
   "metadata": {},
   "outputs": [],
   "source": [
    "import pandas_datareader.data as web\n",
    "import datetime as dt\n",
    "import pandas as pd \n",
    "import numpy as np\n",
    "import matplotlib.pyplot as plt\n",
    "%matplotlib inline\n",
    "import matplotlib.dates as mdates"
   ]
  },
  {
   "cell_type": "code",
   "execution_count": null,
   "id": "4770e53e",
   "metadata": {},
   "outputs": [],
   "source": [
    "tickers = 'JWN' # THREE DEFFRENT COMPANY NAMES \n",
    "start = dt.datetime(2017, 1, 1) # STARTING DATE \n",
    "end = dt.datetime(2020, 1, 1) # eND DATE "
   ]
  },
  {
   "cell_type": "markdown",
   "id": "f60eda48",
   "metadata": {},
   "source": [
    "# Simple moving average"
   ]
  },
  {
   "cell_type": "markdown",
   "id": "ea3b4804",
   "metadata": {},
   "source": [
    "# Simple moving average \"Nordstrom\" JWN"
   ]
  },
  {
   "cell_type": "code",
   "execution_count": null,
   "id": "3000fbfb",
   "metadata": {},
   "outputs": [],
   "source": [
    "start = dt.datetime(2015, 1, 1)\n",
    "end = dt.datetime(2020, 9, 7)"
   ]
  },
  {
   "cell_type": "code",
   "execution_count": null,
   "id": "2df59388",
   "metadata": {},
   "outputs": [],
   "source": [
    "data = web.DataReader(tickers, 'yahoo', start, end)\n",
    "data "
   ]
  },
  {
   "cell_type": "code",
   "execution_count": null,
   "id": "07c05e17",
   "metadata": {},
   "outputs": [],
   "source": [
    "data['SMA10'] = data['Adj Close'].rolling(15).mean() \n",
    "data['SMA20'] = data['Adj Close'].rolling(100).mean()\n",
    "data.head(30)"
   ]
  },
  {
   "cell_type": "code",
   "execution_count": null,
   "id": "42682505",
   "metadata": {},
   "outputs": [],
   "source": [
    "plt.figure(figsize=(12, 8))\n",
    "ax1 = plt.subplot2grid((7, 1), (0, 0), rowspan = 4, colspan = 1, title = tickers)\n",
    "ax2 = plt.subplot2grid((7, 1), (5, 0), rowspan = 2, colspan = 1, sharex = ax1)\n",
    "\n",
    "ax1.plot(data['Adj Close'], label = 'Price', alpha = 0.75)\n",
    "ax1.plot(data['SMA10'], label = 'SMA15')\n",
    "ax1.plot(data['SMA10'], label = 'SMA15')\n",
    "\n",
    "ax2.bar(data.index, data['Volume'], label = 'Volume')\n",
    "\n",
    "plt.gca().xaxis.set_major_formatter(mdates.DateFormatter('%Y, %m'))\n",
    "\n",
    "ax2.set_xlabel('Date (Year - Month)')\n",
    "\n",
    "ax1.legend()\n",
    "ax2.legend(loc = 'upper right')"
   ]
  },
  {
   "cell_type": "markdown",
   "id": "43e22890",
   "metadata": {},
   "source": [
    "# Buy and hold strategy:"
   ]
  },
  {
   "cell_type": "code",
   "execution_count": null,
   "id": "78e4f011",
   "metadata": {},
   "outputs": [],
   "source": [
    "data.drop(data.columns[2], axis=1, inplace=True) # remove the unneeded columns.\n",
    "data"
   ]
  },
  {
   "cell_type": "code",
   "execution_count": null,
   "id": "1ef07f91",
   "metadata": {},
   "outputs": [],
   "source": [
    "data.drop(data.columns[[0, 1, 2]], axis = 1, inplace = True) # remove the unneeded columns.\n",
    "data"
   ]
  },
  {
   "cell_type": "code",
   "execution_count": null,
   "id": "1f327421",
   "metadata": {},
   "outputs": [],
   "source": [
    "data['price_yesterday'] = data['Adj Close'].shift(1)\n",
    "data.head()"
   ]
  },
  {
   "cell_type": "code",
   "execution_count": null,
   "id": "a0c60a94",
   "metadata": {},
   "outputs": [],
   "source": []
  },
  {
   "cell_type": "code",
   "execution_count": null,
   "id": "f197639f",
   "metadata": {},
   "outputs": [],
   "source": [
    "data['change'] = data['Adj Close'] / data['price_yesterday']\n",
    "data.head()"
   ]
  },
  {
   "cell_type": "code",
   "execution_count": null,
   "id": "0f0134d8",
   "metadata": {},
   "outputs": [],
   "source": [
    "data['invested_SMA'] = np.where(data['SMA10'] > data['SMA20'], 1, 0)\n",
    "data.head()"
   ]
  },
  {
   "cell_type": "code",
   "execution_count": null,
   "id": "af91f56c",
   "metadata": {},
   "outputs": [],
   "source": [
    "sma = data[data['invested_SMA'] == 1]\n",
    "sma"
   ]
  },
  {
   "cell_type": "code",
   "execution_count": null,
   "id": "d7185700",
   "metadata": {},
   "outputs": [],
   "source": [
    "data['buy_and_hold'] = np.cumprod(data['change'])\n",
    "data"
   ]
  },
  {
   "cell_type": "code",
   "execution_count": null,
   "id": "f04861b0",
   "metadata": {},
   "outputs": [],
   "source": [
    "sma['return'] = np.cumprod(sma['change'])\n",
    "sma"
   ]
  },
  {
   "cell_type": "code",
   "execution_count": null,
   "id": "b1c12ad4",
   "metadata": {},
   "outputs": [],
   "source": [
    "data.loc['2015, 06, 23': '2015-06-29']"
   ]
  },
  {
   "cell_type": "code",
   "execution_count": null,
   "id": "bc3b8e05",
   "metadata": {},
   "outputs": [],
   "source": [
    "plt.figure(figsize=(12, 8))\n",
    "ax1 = plt.subplot2grid((10, 1), (0, 0), rowspan = 4, colspan = 1, title = tickers)\n",
    "ax2 = plt.subplot2grid((10, 1), (5, 0), rowspan = 2, colspan = 1, sharex = ax1)\n",
    "ax3 = plt.subplot2grid((10, 1), (8, 0), rowspan = 2, colspan = 1, sharex = ax1)\n",
    "\n",
    "ax1.plot(data['Adj Close'], label = 'Price', alpha = 0.75)\n",
    "ax1.plot(data['SMA10'], label = 'SMA10')\n",
    "ax1.plot(data['SMA20'], label = 'SMA20')\n",
    "\n",
    "ax2.bar(data.index, data['Volume'], label = 'Volume')\n",
    "\n",
    "ax3.plot(data['buy_and_hold'], label = 'Buy and Hold')\n",
    "ax3.plot(sma['return'], label = 'SMA')\n",
    "\n",
    "plt.gca().xaxis.set_major_formatter(mdates.DateFormatter('%Y, %m'))\n",
    "\n",
    "ax3.set_xlabel('Date (Year - Month)')\n",
    "\n",
    "ax1.legend()\n",
    "ax2.legend(loc = 'upper right')\n",
    "ax3.legend()"
   ]
  },
  {
   "cell_type": "code",
   "execution_count": null,
   "id": "3c511e4b",
   "metadata": {},
   "outputs": [],
   "source": []
  },
  {
   "cell_type": "markdown",
   "id": "e81adb8b",
   "metadata": {},
   "source": [
    "# Exponential weighted moving average strategy:"
   ]
  },
  {
   "cell_type": "code",
   "execution_count": null,
   "id": "7f040ee6",
   "metadata": {},
   "outputs": [],
   "source": [
    "data['EWM12'] = data['Adj Close'].ewm(span =12, adjust = False).mean()\n",
    "data['EWM26'] = data['Adj Close'].ewm(span =26, adjust = False).mean()\n"
   ]
  },
  {
   "cell_type": "code",
   "execution_count": null,
   "id": "9f114d6e",
   "metadata": {},
   "outputs": [],
   "source": [
    "data"
   ]
  },
  {
   "cell_type": "code",
   "execution_count": null,
   "id": "effefeb9",
   "metadata": {},
   "outputs": [],
   "source": [
    "data['invested_EWM'] = np.where(data['EWM12'] > data['EWM26'], 1, 0)\n",
    "data"
   ]
  },
  {
   "cell_type": "code",
   "execution_count": null,
   "id": "ee892bd2",
   "metadata": {},
   "outputs": [],
   "source": [
    "ewm = data[data['invested_EWM'] == 1]\n",
    "ewm"
   ]
  },
  {
   "cell_type": "code",
   "execution_count": null,
   "id": "a2665f24",
   "metadata": {},
   "outputs": [],
   "source": [
    "data"
   ]
  },
  {
   "cell_type": "code",
   "execution_count": null,
   "id": "f0ec1f57",
   "metadata": {},
   "outputs": [],
   "source": [
    "data.head()"
   ]
  },
  {
   "cell_type": "code",
   "execution_count": null,
   "id": "6fb3d062",
   "metadata": {},
   "outputs": [],
   "source": [
    "ewm['return'] = np.cumprod(ewm['change'])\n",
    "ewm"
   ]
  },
  {
   "cell_type": "code",
   "execution_count": null,
   "id": "763e2171",
   "metadata": {},
   "outputs": [],
   "source": [
    "plt.figure(figsize=(14, 10))\n",
    "\n",
    "ax1 = plt.subplot2grid((10, 1), (0, 0), rowspan = 4, colspan = 1, title = tickers)\n",
    "ax2 = plt.subplot2grid((10, 1), (5, 0), rowspan = 2, colspan = 1, sharex = ax1)\n",
    "ax3 = plt.subplot2grid((10, 1), (8, 0), rowspan = 3, colspan = 1, sharex = ax1)\n",
    "\n",
    "ax1.plot(data['Adj Close'], label = 'Price')\n",
    "ax1.plot(data['SMA10'], label = 'SMA10')\n",
    "ax1.plot(data['SMA20'], label = 'SMA20')\n",
    "ax1.plot(data['EWM12'], label = 'EWM12')\n",
    "ax1.plot(data['EWM26'], label = 'EWM26')\n",
    "\n",
    "ax2.bar(data.index, data['Volume'], label = 'Volume')\n",
    "\n",
    "ax3.plot(data['buy_and_hold'], label = 'Buy and Hold')\n",
    "ax3.plot(sma['return'], label = 'SMA')\n",
    "ax3.plot(ewm['return'], label = 'EWM')\n",
    "\n",
    "plt.gca().xaxis.set_major_formatter(mdates.DateFormatter('%Y, %m'))\n",
    "\n",
    "ax3.set_xlabel('Date (Year - Month)')\n",
    "\n",
    "ax1.legend(fontsize = 10)\n",
    "ax2.legend(fontsize = 10, loc = 'upper right')\n",
    "ax3.legend(fontsize = 8)\n",
    "plt.savefig('ewm.png')\n",
    "plt.show()"
   ]
  },
  {
   "cell_type": "code",
   "execution_count": null,
   "id": "a94ccab1",
   "metadata": {},
   "outputs": [],
   "source": []
  },
  {
   "cell_type": "code",
   "execution_count": null,
   "id": "c9cf6581",
   "metadata": {},
   "outputs": [],
   "source": []
  },
  {
   "cell_type": "code",
   "execution_count": null,
   "id": "79e12eef",
   "metadata": {},
   "outputs": [],
   "source": []
  },
  {
   "cell_type": "markdown",
   "id": "f1564737",
   "metadata": {},
   "source": [
    "# Simple moving average \"uber technologies\" as UBER"
   ]
  },
  {
   "cell_type": "code",
   "execution_count": null,
   "id": "e3be47a4",
   "metadata": {},
   "outputs": [],
   "source": [
    "tickers=0\n",
    "tickers = 'UBER' # THREE DEFFRENT COMPANY NAMES \n",
    "data = web.DataReader(tickers, 'yahoo', start, end)\n",
    "data"
   ]
  },
  {
   "cell_type": "code",
   "execution_count": null,
   "id": "4dbfef39",
   "metadata": {},
   "outputs": [],
   "source": [
    "data['SMA10'] = data['Adj Close'].rolling(15).mean() \n",
    "data['SMA20'] = data['Adj Close'].rolling(100).mean()\n",
    "data.head(30)"
   ]
  },
  {
   "cell_type": "code",
   "execution_count": null,
   "id": "9e9b0207",
   "metadata": {},
   "outputs": [],
   "source": [
    "plt.figure(figsize=(12, 8))\n",
    "ax1 = plt.subplot2grid((7, 1), (0, 0), rowspan = 4, colspan = 1, title = tickers)\n",
    "ax2 = plt.subplot2grid((7, 1), (5, 0), rowspan = 2, colspan = 1, sharex = ax1)\n",
    "\n",
    "ax1.plot(data['Adj Close'], label = 'Price', alpha = 0.75)\n",
    "ax1.plot(data['SMA10'], label = 'SMA15')\n",
    "ax1.plot(data['SMA10'], label = 'SMA15')\n",
    "\n",
    "ax2.bar(data.index, data['Volume'], label = 'Volume')\n",
    "\n",
    "plt.gca().xaxis.set_major_formatter(mdates.DateFormatter('%Y, %m'))\n",
    "\n",
    "ax2.set_xlabel('Date (Year - Month)')\n",
    "\n",
    "ax1.legend()\n",
    "ax2.legend(loc = 'upper right')"
   ]
  },
  {
   "cell_type": "markdown",
   "id": "d8f88006",
   "metadata": {},
   "source": [
    "# Buy and hold strategy:"
   ]
  },
  {
   "cell_type": "code",
   "execution_count": null,
   "id": "06e5a666",
   "metadata": {},
   "outputs": [],
   "source": [
    "data.drop(data.columns[2], axis=1, inplace=True) # remove the unneeded columns.\n",
    "data"
   ]
  },
  {
   "cell_type": "code",
   "execution_count": null,
   "id": "cff7f899",
   "metadata": {},
   "outputs": [],
   "source": [
    "data.drop(data.columns[[0, 1, 2]], axis = 1, inplace = True) # remove the unneeded columns.\n",
    "data"
   ]
  },
  {
   "cell_type": "code",
   "execution_count": null,
   "id": "711cc1c5",
   "metadata": {},
   "outputs": [],
   "source": [
    "data['price_yesterday'] = data['Adj Close'].shift(1)\n",
    "data.head()"
   ]
  },
  {
   "cell_type": "code",
   "execution_count": null,
   "id": "dfe329e9",
   "metadata": {},
   "outputs": [],
   "source": []
  },
  {
   "cell_type": "code",
   "execution_count": null,
   "id": "aa798fd8",
   "metadata": {},
   "outputs": [],
   "source": [
    "data['change'] = data['Adj Close'] / data['price_yesterday']\n",
    "data.head()"
   ]
  },
  {
   "cell_type": "code",
   "execution_count": null,
   "id": "3a8797e0",
   "metadata": {},
   "outputs": [],
   "source": [
    "data['invested_SMA'] = np.where(data['SMA10'] > data['SMA20'], 1, 0)\n",
    "data.head()"
   ]
  },
  {
   "cell_type": "code",
   "execution_count": null,
   "id": "8b2eb300",
   "metadata": {},
   "outputs": [],
   "source": [
    "data['buy_and_hold'] = np.cumprod(data['change'])\n",
    "data"
   ]
  },
  {
   "cell_type": "code",
   "execution_count": null,
   "id": "df2ddf26",
   "metadata": {},
   "outputs": [],
   "source": [
    "sma['return'] = np.cumprod(sma['change'])\n",
    "sma"
   ]
  },
  {
   "cell_type": "code",
   "execution_count": null,
   "id": "b4d473f1",
   "metadata": {},
   "outputs": [],
   "source": [
    "data.loc['2015, 06, 23': '2015-06-29']"
   ]
  },
  {
   "cell_type": "code",
   "execution_count": null,
   "id": "0e65b58d",
   "metadata": {},
   "outputs": [],
   "source": [
    "plt.figure(figsize=(12, 8))\n",
    "ax1 = plt.subplot2grid((10, 1), (0, 0), rowspan = 4, colspan = 1, title = tickers)\n",
    "ax2 = plt.subplot2grid((10, 1), (5, 0), rowspan = 2, colspan = 1, sharex = ax1)\n",
    "ax3 = plt.subplot2grid((10, 1), (8, 0), rowspan = 2, colspan = 1, sharex = ax1)\n",
    "\n",
    "ax1.plot(data['Adj Close'], label = 'Price', alpha = 0.75)\n",
    "ax1.plot(data['SMA10'], label = 'SMA10')\n",
    "ax1.plot(data['SMA20'], label = 'SMA20')\n",
    "\n",
    "ax2.bar(data.index, data['Volume'], label = 'Volume')\n",
    "\n",
    "ax3.plot(data['buy_and_hold'], label = 'Buy and Hold')\n",
    "ax3.plot(sma['return'], label = 'SMA')\n",
    "\n",
    "plt.gca().xaxis.set_major_formatter(mdates.DateFormatter('%Y, %m'))\n",
    "\n",
    "ax3.set_xlabel('Date (Year - Month)')\n",
    "\n",
    "ax1.legend()\n",
    "ax2.legend(loc = 'upper right')\n",
    "ax3.legend()\n",
    "\n",
    "# Hold and Buy strategy has outperformed the strategy based on buying when SMA20 is greater than SMA120."
   ]
  },
  {
   "cell_type": "markdown",
   "id": "d9c0d913",
   "metadata": {},
   "source": [
    "# Exponential weighted moving average strategy:"
   ]
  },
  {
   "cell_type": "code",
   "execution_count": null,
   "id": "6f49513b",
   "metadata": {},
   "outputs": [],
   "source": [
    "data['EWM12'] = data['Adj Close'].ewm(span =12, adjust = False).mean()\n",
    "data['EWM26'] = data['Adj Close'].ewm(span =26, adjust = False).mean()\n"
   ]
  },
  {
   "cell_type": "code",
   "execution_count": null,
   "id": "5a90446f",
   "metadata": {},
   "outputs": [],
   "source": [
    "data"
   ]
  },
  {
   "cell_type": "code",
   "execution_count": null,
   "id": "3eb9e737",
   "metadata": {},
   "outputs": [],
   "source": [
    "data['invested_EWM'] = np.where(data['EWM12'] > data['EWM26'], 1, 0)\n",
    "data"
   ]
  },
  {
   "cell_type": "code",
   "execution_count": null,
   "id": "965e1923",
   "metadata": {},
   "outputs": [],
   "source": [
    "ewm = data[data['invested_EWM'] == 1]\n",
    "ewm"
   ]
  },
  {
   "cell_type": "code",
   "execution_count": null,
   "id": "e8bc5254",
   "metadata": {},
   "outputs": [],
   "source": [
    "data"
   ]
  },
  {
   "cell_type": "code",
   "execution_count": null,
   "id": "11b4fbac",
   "metadata": {},
   "outputs": [],
   "source": [
    "data.head()"
   ]
  },
  {
   "cell_type": "code",
   "execution_count": null,
   "id": "e8ea5a21",
   "metadata": {},
   "outputs": [],
   "source": [
    "ewm['return'] = np.cumprod(ewm['change'])\n",
    "ewm"
   ]
  },
  {
   "cell_type": "code",
   "execution_count": null,
   "id": "330d54ee",
   "metadata": {},
   "outputs": [],
   "source": [
    "plt.figure(figsize=(14, 10))\n",
    "\n",
    "ax1 = plt.subplot2grid((10, 1), (0, 0), rowspan = 4, colspan = 1, title = tickers)\n",
    "ax2 = plt.subplot2grid((10, 1), (5, 0), rowspan = 2, colspan = 1, sharex = ax1)\n",
    "ax3 = plt.subplot2grid((10, 1), (8, 0), rowspan = 3, colspan = 1, sharex = ax1)\n",
    "\n",
    "ax1.plot(data['Adj Close'], label = 'Price')\n",
    "ax1.plot(data['SMA10'], label = 'SMA10')\n",
    "ax1.plot(data['SMA20'], label = 'SMA20')\n",
    "ax1.plot(data['EWM12'], label = 'EWM12')\n",
    "ax1.plot(data['EWM26'], label = 'EWM26')\n",
    "\n",
    "ax2.bar(data.index, data['Volume'], label = 'Volume')\n",
    "\n",
    "ax3.plot(data['buy_and_hold'], label = 'Buy and Hold')\n",
    "ax3.plot(sma['return'], label = 'SMA')\n",
    "ax3.plot(ewm['return'], label = 'EWM')\n",
    "\n",
    "plt.gca().xaxis.set_major_formatter(mdates.DateFormatter('%Y, %m'))\n",
    "\n",
    "ax3.set_xlabel('Date (Year - Month)')\n",
    "\n",
    "ax1.legend(fontsize = 10)\n",
    "ax2.legend(fontsize = 10, loc = 'upper right')\n",
    "ax3.legend(fontsize = 8)\n",
    "plt.savefig('ewm.png')\n",
    "plt.show()"
   ]
  },
  {
   "cell_type": "code",
   "execution_count": null,
   "id": "60be6c67",
   "metadata": {},
   "outputs": [],
   "source": []
  },
  {
   "cell_type": "code",
   "execution_count": null,
   "id": "a0908039",
   "metadata": {},
   "outputs": [],
   "source": []
  },
  {
   "cell_type": "markdown",
   "id": "68acbcf6",
   "metadata": {},
   "source": [
    "# Simple moving average \"Royal caribbean cruises Ltd\" as RCL"
   ]
  },
  {
   "cell_type": "code",
   "execution_count": null,
   "id": "9f8ca256",
   "metadata": {},
   "outputs": [],
   "source": [
    "tickers=0\n",
    "tickers = 'RCL' # THREE DEFFRENT COMPANY NAMES \n",
    "data = web.DataReader(tickers, 'yahoo', start, end)\n",
    "data"
   ]
  },
  {
   "cell_type": "code",
   "execution_count": null,
   "id": "822319c1",
   "metadata": {},
   "outputs": [],
   "source": [
    "data['SMA10'] = data['Adj Close'].rolling(15).mean() \n",
    "data['SMA20'] = data['Adj Close'].rolling(100).mean()\n",
    "data.head(30)"
   ]
  },
  {
   "cell_type": "code",
   "execution_count": null,
   "id": "60d08b34",
   "metadata": {},
   "outputs": [],
   "source": [
    "plt.figure(figsize=(12, 8))\n",
    "ax1 = plt.subplot2grid((7, 1), (0, 0), rowspan = 4, colspan = 1, title = tickers)\n",
    "ax2 = plt.subplot2grid((7, 1), (5, 0), rowspan = 2, colspan = 1, sharex = ax1)\n",
    "\n",
    "ax1.plot(data['Adj Close'], label = 'Price', alpha = 0.75)\n",
    "ax1.plot(data['SMA10'], label = 'SMA15')\n",
    "ax1.plot(data['SMA10'], label = 'SMA15')\n",
    "\n",
    "ax2.bar(data.index, data['Volume'], label = 'Volume')\n",
    "\n",
    "plt.gca().xaxis.set_major_formatter(mdates.DateFormatter('%Y, %m'))\n",
    "\n",
    "ax2.set_xlabel('Date (Year - Month)')\n",
    "\n",
    "ax1.legend()\n",
    "ax2.legend(loc = 'upper right')"
   ]
  },
  {
   "cell_type": "markdown",
   "id": "c7082b08",
   "metadata": {},
   "source": [
    "# Buy and hold strategy:"
   ]
  },
  {
   "cell_type": "code",
   "execution_count": null,
   "id": "7e93e7ef",
   "metadata": {},
   "outputs": [],
   "source": [
    "data.drop(data.columns[2], axis=1, inplace=True) # remove the unneeded columns.\n",
    "data"
   ]
  },
  {
   "cell_type": "code",
   "execution_count": null,
   "id": "00072191",
   "metadata": {},
   "outputs": [],
   "source": [
    "data.drop(data.columns[[0, 1, 2]], axis = 1, inplace = True) # remove the unneeded columns.\n",
    "data"
   ]
  },
  {
   "cell_type": "code",
   "execution_count": null,
   "id": "941e6946",
   "metadata": {},
   "outputs": [],
   "source": [
    "data['price_yesterday'] = data['Adj Close'].shift(1)\n",
    "data.head()"
   ]
  },
  {
   "cell_type": "code",
   "execution_count": null,
   "id": "973048bc",
   "metadata": {},
   "outputs": [],
   "source": []
  },
  {
   "cell_type": "code",
   "execution_count": null,
   "id": "d468d4d4",
   "metadata": {},
   "outputs": [],
   "source": [
    "data['change'] = data['Adj Close'] / data['price_yesterday']\n",
    "data.head()"
   ]
  },
  {
   "cell_type": "code",
   "execution_count": null,
   "id": "3f50b384",
   "metadata": {},
   "outputs": [],
   "source": [
    "data['invested_SMA'] = np.where(data['SMA10'] > data['SMA20'], 1, 0)\n",
    "data.head()"
   ]
  },
  {
   "cell_type": "code",
   "execution_count": null,
   "id": "45e826c8",
   "metadata": {},
   "outputs": [],
   "source": [
    "data['buy_and_hold'] = np.cumprod(data['change'])\n",
    "data"
   ]
  },
  {
   "cell_type": "code",
   "execution_count": null,
   "id": "b4de07d3",
   "metadata": {},
   "outputs": [],
   "source": [
    "data"
   ]
  },
  {
   "cell_type": "code",
   "execution_count": null,
   "id": "e156963f",
   "metadata": {},
   "outputs": [],
   "source": [
    "data.head()\n"
   ]
  },
  {
   "cell_type": "code",
   "execution_count": null,
   "id": "13eb3d25",
   "metadata": {},
   "outputs": [],
   "source": [
    "sma['return'] = np.cumprod(sma['change'])\n",
    "sma"
   ]
  },
  {
   "cell_type": "code",
   "execution_count": null,
   "id": "8cc1d4fd",
   "metadata": {},
   "outputs": [],
   "source": [
    "data.loc['2015, 06, 23': '2015-06-29']"
   ]
  },
  {
   "cell_type": "code",
   "execution_count": null,
   "id": "95d706c0",
   "metadata": {},
   "outputs": [],
   "source": [
    "plt.figure(figsize=(12, 8))\n",
    "ax1 = plt.subplot2grid((10, 1), (0, 0), rowspan = 4, colspan = 1, title = tickers)\n",
    "ax2 = plt.subplot2grid((10, 1), (5, 0), rowspan = 2, colspan = 1, sharex = ax1)\n",
    "ax3 = plt.subplot2grid((10, 1), (8, 0), rowspan = 2, colspan = 1, sharex = ax1)\n",
    "\n",
    "ax1.plot(data['Adj Close'], label = 'Price', alpha = 0.75)\n",
    "ax1.plot(data['SMA10'], label = 'SMA10')\n",
    "ax1.plot(data['SMA20'], label = 'SMA20')\n",
    "\n",
    "ax2.bar(data.index, data['Volume'], label = 'Volume')\n",
    "\n",
    "ax3.plot(data['buy_and_hold'], label = 'Buy and Hold')\n",
    "ax3.plot(sma['return'], label = 'SMA')\n",
    "\n",
    "plt.gca().xaxis.set_major_formatter(mdates.DateFormatter('%Y, %m'))\n",
    "\n",
    "ax3.set_xlabel('Date (Year - Month)')\n",
    "\n",
    "ax1.legend()\n",
    "ax2.legend(loc = 'upper right')\n",
    "ax3.legend()\n",
    "\n",
    "# Hold and Buy strategy has outperformed the strategy based on buying when SMA20 is greater than SMA120."
   ]
  },
  {
   "cell_type": "markdown",
   "id": "233ffa98",
   "metadata": {},
   "source": [
    "# Exponential weighted moving average strategy:"
   ]
  },
  {
   "cell_type": "code",
   "execution_count": null,
   "id": "c7b9cd5b",
   "metadata": {},
   "outputs": [],
   "source": [
    "data['EWM12'] = data['Adj Close'].ewm(span =12, adjust = False).mean()\n",
    "data['EWM26'] = data['Adj Close'].ewm(span =26, adjust = False).mean()\n"
   ]
  },
  {
   "cell_type": "code",
   "execution_count": null,
   "id": "211438fb",
   "metadata": {},
   "outputs": [],
   "source": [
    "data"
   ]
  },
  {
   "cell_type": "code",
   "execution_count": null,
   "id": "38c75710",
   "metadata": {},
   "outputs": [],
   "source": [
    "data['invested_EWM'] = np.where(data['EWM12'] > data['EWM26'], 1, 0)\n",
    "data"
   ]
  },
  {
   "cell_type": "code",
   "execution_count": null,
   "id": "f6723742",
   "metadata": {},
   "outputs": [],
   "source": [
    "ewm = data[data['invested_EWM'] == 1]\n",
    "ewm"
   ]
  },
  {
   "cell_type": "code",
   "execution_count": null,
   "id": "49c9e83f",
   "metadata": {},
   "outputs": [],
   "source": [
    "ewm['return'] = np.cumprod(ewm['change'])\n",
    "ewm"
   ]
  },
  {
   "cell_type": "code",
   "execution_count": null,
   "id": "5d499609",
   "metadata": {},
   "outputs": [],
   "source": [
    "plt.figure(figsize=(14, 10))\n",
    "\n",
    "ax1 = plt.subplot2grid((10, 1), (0, 0), rowspan = 4, colspan = 1, title = tickers)\n",
    "ax2 = plt.subplot2grid((10, 1), (5, 0), rowspan = 2, colspan = 1, sharex = ax1)\n",
    "ax3 = plt.subplot2grid((10, 1), (8, 0), rowspan = 3, colspan = 1, sharex = ax1)\n",
    "\n",
    "ax1.plot(data['Adj Close'], label = 'Price')\n",
    "ax1.plot(data['SMA10'], label = 'SMA10')\n",
    "ax1.plot(data['SMA20'], label = 'SMA20')\n",
    "ax1.plot(data['EWM12'], label = 'EWM12')\n",
    "ax1.plot(data['EWM26'], label = 'EWM26')\n",
    "\n",
    "ax2.bar(data.index, data['Volume'], label = 'Volume')\n",
    "\n",
    "ax3.plot(data['buy_and_hold'], label = 'Buy and Hold')\n",
    "ax3.plot(sma['return'], label = 'SMA')\n",
    "ax3.plot(ewm['return'], label = 'EWM')\n",
    "\n",
    "plt.gca().xaxis.set_major_formatter(mdates.DateFormatter('%Y, %m'))\n",
    "\n",
    "ax3.set_xlabel('Date (Year - Month)')\n",
    "\n",
    "ax1.legend(fontsize = 10)\n",
    "ax2.legend(fontsize = 10, loc = 'upper right')\n",
    "ax3.legend(fontsize = 8)\n",
    "plt.savefig('ewm.png')\n",
    "plt.show()"
   ]
  },
  {
   "cell_type": "code",
   "execution_count": null,
   "id": "df2fe877",
   "metadata": {},
   "outputs": [],
   "source": []
  }
 ],
 "metadata": {
  "kernelspec": {
   "display_name": "Python 3 (ipykernel)",
   "language": "python",
   "name": "python3"
  },
  "language_info": {
   "codemirror_mode": {
    "name": "ipython",
    "version": 3
   },
   "file_extension": ".py",
   "mimetype": "text/x-python",
   "name": "python",
   "nbconvert_exporter": "python",
   "pygments_lexer": "ipython3",
   "version": "3.9.12"
  }
 },
 "nbformat": 4,
 "nbformat_minor": 5
}
